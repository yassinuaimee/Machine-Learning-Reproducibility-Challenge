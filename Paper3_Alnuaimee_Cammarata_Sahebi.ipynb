{
  "cells": [
    {
      "cell_type": "markdown",
      "metadata": {
        "id": "tQqG5R40ARk3"
      },
      "source": [
        "# Common"
      ]
    },
    {
      "cell_type": "code",
      "execution_count": null,
      "metadata": {
        "id": "gCzfBBIiAQhw"
      },
      "outputs": [],
      "source": [
        "import matplotlib.pyplot as plt\n",
        "import numpy as np\n",
        "import torch\n",
        "import torch.nn as nn\n",
        "import torch.nn.functional as F\n",
        "import torchvision\n",
        "from torch.utils.data import DataLoader\n",
        "from typing import Optional\n",
        "import pickle\n",
        "\n",
        "def train_epoch(\n",
        "    model: nn.Module,\n",
        "    train_dataloader: DataLoader,\n",
        "    optimizer: torch.optim.Optimizer,\n",
        "    device: torch.device,\n",
        "    lambda_ : Optional[float]=None,\n",
        "    beta : Optional[float]=None\n",
        "):\n",
        "    \"\"\"\n",
        "    This function implements the core components of any Neural Network training regiment.\n",
        "    In our stochastic setting our code follows a very specific \"path\". First, we load the batch\n",
        "    a single batch and zero the optimizer. Then we perform the forward pass, compute the gradients and perform the backward pass. And ...repeat!\n",
        "    \"\"\"\n",
        "\n",
        "    running_loss = 0.0\n",
        "    model = model.to(device)\n",
        "    model.train()\n",
        "    for batch_idx, (data, target) in enumerate(train_dataloader):\n",
        "        # move data and target to device\n",
        "        data, target = data.to(device), target.to(device)\n",
        "\n",
        "        # zero the parameter gradients\n",
        "        optimizer.zero_grad()\n",
        "\n",
        "        # do the forward pass\n",
        "        output = model(data)\n",
        "\n",
        "        # compute the loss\n",
        "        loss = F.cross_entropy(output, target)\n",
        "\n",
        "        # compute the gradients\n",
        "        loss.backward()\n",
        "\n",
        "        # perform the gradient step\n",
        "        optimizer.step()\n",
        "\n",
        "        if beta is not None:\n",
        "          with torch.no_grad():\n",
        "            for name, param in model.named_parameters():\n",
        "                if 'weight' in name:  # Apply only to weights, not biases\n",
        "                    # Apply soft thresholding\n",
        "                    param.sub_(param.sign() * LEARNING_RATE * lambda_)\n",
        "                    param.data = torch.relu(param.abs() - beta * lambda_).sign() * param\n",
        "\n",
        "        # print statistics\n",
        "        running_loss += loss.item()\n",
        "\n",
        "    return running_loss / len(train_dataloader)\n",
        "\n",
        "def count_nonzero_params(model):\n",
        "    nonzero_params = {}\n",
        "    for name, param in model.named_parameters():\n",
        "        if param.requires_grad:\n",
        "            # Check if it's a weight parameter and exclude biases and other parameters\n",
        "            if 'weight' in name:\n",
        "                nonzero = torch.count_nonzero(param.data).item()\n",
        "                nonzero_params[name] = nonzero\n",
        "    return nonzero_params\n",
        "\n",
        "\n",
        "def fit(\n",
        "    model: nn.Module,\n",
        "    train_dataloader: DataLoader,\n",
        "    optimizer: torch.optim.Optimizer,\n",
        "    epochs: int,\n",
        "    device: torch.device,\n",
        "    PATH,\n",
        "    lambda_ : Optional[float]=None,\n",
        "    beta : Optional[float]=None,\n",
        "    valid_dataloader: Optional[DataLoader]=None):\n",
        "    '''\n",
        "    the fit method simply calls the train_epoch() method for a\n",
        "    specified number of epochs.\n",
        "    '''\n",
        "\n",
        "    # keep track of the losses in order to visualize them later\n",
        "    # Train for numerous epochs:\n",
        "    train_losses = []\n",
        "    valid_losses = []\n",
        "    valid_accs = []\n",
        "    layer_nonzeros = {name: [] for name, _ in model.named_parameters() if 'weight' in name}\n",
        "\n",
        "    for epoch in range(epochs):\n",
        "        train_loss = train_epoch(\n",
        "            model=model,\n",
        "            train_dataloader=train_dataloader,\n",
        "            optimizer=optimizer,\n",
        "            device=device,\n",
        "            lambda_ = lambda_ ,\n",
        "            beta = beta,\n",
        "        )\n",
        "        train_losses.append(train_loss)\n",
        "        nonzeros = count_nonzero_params(model)\n",
        "        for name in layer_nonzeros.keys():\n",
        "            layer_nonzeros[name].append(nonzeros.get(name, 0))\n",
        "        if valid_dataloader is not None:\n",
        "            valid_loss, valid_acc = predict(model, valid_dataloader, device, verbose=False)\n",
        "            valid_losses.append(valid_loss)\n",
        "            valid_accs.append(valid_acc)\n",
        "\n",
        "        if valid_dataloader is None:\n",
        "            print(f\"Epoch {epoch}: Train Loss={train_loss:.4f}\")\n",
        "        else:\n",
        "            print(f\"Epoch {epoch}: Train Loss={train_loss:.4f}, Validation Loss={valid_loss:.4f}, Validation acc={valid_acc:.4f}\")\n",
        "    torch.save(model.state_dict(), '/content/ ' + PATH + '.pth')\n",
        "    file = open('/content/ ' + PATH + 'losses' + '.pth','wb')\n",
        "    pickle.dump({'train_losses': train_losses , 'valid_losses': valid_losses, 'valid_accs': valid_accs, 'layer_nonzeros': layer_nonzeros} , file)\n",
        "    file.close()\n",
        "    return train_losses, valid_losses, valid_accs, layer_nonzeros\n",
        "\n",
        "\n",
        "def predict(\n",
        "    model: nn.Module, test_dataloader: DataLoader, device: torch.device, verbose=True\n",
        "):\n",
        "    model.eval()\n",
        "    test_loss = 0\n",
        "    correct = 0\n",
        "    with torch.no_grad():\n",
        "        for data, target in test_dataloader:\n",
        "            data, target = data.to(device), target.to(device)\n",
        "            output = model(data)\n",
        "            loss = F.cross_entropy(output, target, reduction=\"sum\")\n",
        "            test_loss += loss.item()\n",
        "            pred = output.data.max(1, keepdim=True)[1]\n",
        "            correct += pred.eq(target.data.view_as(pred)).sum()\n",
        "\n",
        "    test_loss /= len(test_dataloader.dataset)\n",
        "    accuracy = 100.0 * correct / len(test_dataloader.dataset)\n",
        "\n",
        "    if verbose:\n",
        "        print(\n",
        "            f\"Test set: Avg. loss: {test_loss:.4f}, Accuracy: {correct}/{len(test_dataloader.dataset)} ({accuracy:.0f}%)\"\n",
        "        )\n",
        "\n",
        "    return test_loss, accuracy\n",
        "\n",
        "\n",
        "def visualize_images(dataloader):\n",
        "    images = next(iter(dataloader))[0][:10]\n",
        "    grid = torchvision.utils.make_grid(images, nrow=5, padding=10)\n",
        "\n",
        "    def show(img):\n",
        "        npimg = img.numpy()\n",
        "        plt.imshow(np.transpose(npimg, (1, 2, 0)), interpolation=\"nearest\")\n",
        "\n",
        "    show(grid)\n",
        "\n",
        "\n",
        "def plot_loss(losses, ylim=None):\n",
        "    plt.plot(losses)\n",
        "    plt.xlabel(\"Epochs\")\n",
        "    plt.ylabel(\"Loss\")\n",
        "    plt.ylim(ylim)\n",
        "    plt.title(\"Loss progression across epochs\")\n",
        "\n",
        "def plot_conv_filters(model):\n",
        "    # Retrieve the convolutional layer's weights\n",
        "    conv1_weight = model.conv1.weight.data.clone().cpu()\n",
        "\n",
        "    # Normalize the weights\n",
        "    conv1_weight = (conv1_weight - conv1_weight.min()) / (conv1_weight.max() - conv1_weight.min())\n",
        "\n",
        "    # Get the number of filters and the number of channels\n",
        "    num_filters = conv1_weight.size(0)\n",
        "    num_channels = conv1_weight.size(1)\n",
        "    print(num_filters)\n",
        "    # Create subplots - assuming we have 3 channels (RGB)\n",
        "    fig, axes = plt.subplots(4, 1)\n",
        "\n",
        "    for i in range(4):\n",
        "\n",
        "            # Get the filter for the ith filter and jth channel\n",
        "            f = conv1_weight[i, :].permute(1,2,0)\n",
        "            axes[i].imshow(f, cmap='brg')\n",
        "            axes[i].axis('off')\n",
        "\n",
        "    # Show the plot\n",
        "    plt.show()\n"
      ]
    },
    {
      "cell_type": "code",
      "execution_count": null,
      "metadata": {
        "id": "noFo4grEAslC"
      },
      "outputs": [],
      "source": [
        "\n",
        "class S_CONV(nn.Module):\n",
        "    def __init__(self, alpha, output):\n",
        "        super(S_CONV, self).__init__()\n",
        "        # Convolutional layer\n",
        "        self.conv1 = nn.Conv2d(in_channels=3, out_channels=alpha, kernel_size=9, stride=2, padding=4)\n",
        "        self.bn1 = nn.BatchNorm2d(alpha)\n",
        "\n",
        "        # CIFAR-10 images are 32x32, after a 9x9 convolution with stride 2 and no padding, the output size will be:\n",
        "        # output size = (input size - filter size + 2 * padding) / stride + 1\n",
        "        # output size = (32 - 9 + 0) / 2 + 1 = 12\n",
        "        # so the output will be 12x12 feature maps per channel\n",
        "        conv_output_size = alpha * 16 * 16\n",
        "\n",
        "        # Fully connected layers\n",
        "        self.fc1 = nn.Linear(conv_output_size, 24 * alpha)\n",
        "        self.bn2 = nn.BatchNorm1d(24 * alpha)\n",
        "        self.fc2 = nn.Linear(24 * alpha, output)\n",
        "\n",
        "    def forward(self, x):\n",
        "        x = self.conv1(x)\n",
        "        x = self.bn1(x)\n",
        "        x = F.relu(x)\n",
        "        x = x.view(x.size(0), -1)  # Flatten the tensor for the fully connected layers\n",
        "        x = self.fc1(x)\n",
        "        x = self.bn2(x)\n",
        "        x = F.relu(x)\n",
        "        x = self.fc2(x)\n",
        "        return x"
      ]
    },
    {
      "cell_type": "code",
      "execution_count": null,
      "metadata": {
        "id": "IEHWuVISAyRe"
      },
      "outputs": [],
      "source": [
        "class S_LOCAL(nn.Module):\n",
        "    def __init__(self, alpha, output):\n",
        "        super(S_LOCAL, self).__init__()\n",
        "        # Locally connected layer simulated by a grouped convolutional layer\n",
        "        # Each input channel is connected to its own set of filters with groups which simulates locality\n",
        "        self.local_conv1 = nn.Conv2d(in_channels= 3, out_channels=3*alpha, kernel_size=9, stride=2, padding=4, groups= 3)\n",
        "        self.bn1 = nn.BatchNorm2d(3*alpha)\n",
        "\n",
        "        local_conv_output_size = 3*alpha * 16 * 16\n",
        "\n",
        "        # The rest of the fully connected layers remain the same\n",
        "        self.fc1 = nn.Linear(local_conv_output_size, 24 * alpha)\n",
        "        self.bn2 = nn.BatchNorm1d(24 * alpha)\n",
        "        self.fc2 = nn.Linear(24 * alpha, output)\n",
        "\n",
        "    def forward(self, x):\n",
        "        x = self.local_conv1(x)\n",
        "        x = self.bn1(x)\n",
        "        x = F.relu(x)\n",
        "        x = x.view(x.size(0), -1)  # Flatten the tensor for the fully connected layers\n",
        "        x = self.fc1(x)\n",
        "        x = self.bn2(x)\n",
        "        x = F.relu(x)\n",
        "        x = self.fc2(x)\n",
        "        return x"
      ]
    },
    {
      "cell_type": "code",
      "execution_count": null,
      "metadata": {
        "id": "-DHLvzuCA18q"
      },
      "outputs": [],
      "source": [
        "class S_FC(nn.Module):\n",
        "    def __init__(self, alpha,output):\n",
        "        super(S_FC, self).__init__()\n",
        "        # Calculate the size of the input when flattened\n",
        "        # CIFAR-10 images are 32x32 with 3 channels\n",
        "        input_size = 3 * 32 * 32\n",
        "\n",
        "        # Fully connected layers replacing the convolution\n",
        "        # The input size is the flattened CIFAR-10 image size\n",
        "        self.fc1 = nn.Linear(input_size, int(alpha*32*32*0.25))\n",
        "        self.bn1 = nn.BatchNorm1d(int(alpha*32*32*0.25))\n",
        "\n",
        "        # The rest of the fully connected layers remain the same\n",
        "        self.fc2 = nn.Linear(int(alpha*32*32*0.25), 24 * alpha)\n",
        "        self.bn2 = nn.BatchNorm1d(24 * alpha)\n",
        "        self.fc3 = nn.Linear(24 * alpha, output)\n",
        "\n",
        "    def forward(self, x):\n",
        "        x = x.view(x.size(0), -1)  # Flatten the tensor right away for fully connected layers\n",
        "        x = self.fc1(x)\n",
        "        x = self.bn1(x)\n",
        "        x = F.relu(x)\n",
        "        x = self.fc2(x)\n",
        "        x = self.bn2(x)\n",
        "        x = F.relu(x)\n",
        "        x = self.fc3(x)\n",
        "        return x"
      ]
    },
    {
      "cell_type": "code",
      "execution_count": null,
      "metadata": {
        "id": "NCm8jMVb6qdG"
      },
      "outputs": [],
      "source": [
        "class FC_3(nn.Module):\n",
        "    def __init__(self, alpha,output):\n",
        "        super(FC_3, self).__init__()\n",
        "        # Calculate the size of the input when flattened\n",
        "        # CIFAR-10 images are 32x32 with 3 channels\n",
        "        input_size = 3 * 32 * 32\n",
        "\n",
        "        # Fully connected layers replacing the convolution\n",
        "        # The input size is the flattened CIFAR-10 image size\n",
        "        self.fc1 = nn.Linear(input_size, alpha)\n",
        "        self.bn1 = nn.BatchNorm1d(alpha)\n",
        "\n",
        "        # The rest of the fully connected layers remain the same\n",
        "        self.fc2 = nn.Linear(alpha, alpha)\n",
        "        self.fc3 = nn.Linear(alpha, output)\n",
        "\n",
        "    def forward(self, x):\n",
        "        x = x.view(x.size(0), -1)  # Flatten the tensor right away for fully connected layers\n",
        "        x = self.fc1(x)\n",
        "        x = self.bn1(x)\n",
        "        x = F.relu(x)\n",
        "        x = self.fc2(x)\n",
        "        x = self.bn1(x)\n",
        "        x = F.relu(x)\n",
        "        x = self.fc3(x)\n",
        "        return x"
      ]
    },
    {
      "cell_type": "code",
      "execution_count": null,
      "metadata": {
        "colab": {
          "base_uri": "https://localhost:8080/"
        },
        "id": "qr6azoqCAZUl",
        "outputId": "b62960b0-f488-417e-b5d7-5321c176999e"
      },
      "outputs": [
        {
          "name": "stdout",
          "output_type": "stream",
          "text": [
            "cuda\n"
          ]
        }
      ],
      "source": [
        "# define the hyperparameters\n",
        "BATCH_SIZE = 512\n",
        "TEST_BATCH_SIZE = 512\n",
        "LEARNING_RATE = 0.1\n",
        "ALPHA = 64\n",
        "##epoch size 400 or 4000\n",
        "EPOCHS = 100 #400\n",
        "# find out which device is available\n",
        "DEVICE = torch.device(\"cuda\" if torch.cuda.is_available() else \"cpu\")\n",
        "# for Mac users with M1 chip, use this line instead\n",
        "#DEVICE = torch.device(\"mps\")\n",
        "print(DEVICE)"
      ]
    },
    {
      "cell_type": "markdown",
      "metadata": {
        "id": "-DJ7z7snPNX6"
      },
      "source": [
        "# CIFAR10"
      ]
    },
    {
      "cell_type": "code",
      "execution_count": null,
      "metadata": {
        "colab": {
          "base_uri": "https://localhost:8080/"
        },
        "id": "aOQUSagrAcL2",
        "outputId": "8166f60d-7e05-4ae3-e36d-8a1e71cd2e78"
      },
      "outputs": [
        {
          "name": "stdout",
          "output_type": "stream",
          "text": [
            "Downloading https://www.cs.toronto.edu/~kriz/cifar-10-python.tar.gz to ./data/cifar-10-python.tar.gz\n"
          ]
        },
        {
          "name": "stderr",
          "output_type": "stream",
          "text": [
            "100%|██████████| 170498071/170498071 [00:03<00:00, 55589617.74it/s]\n"
          ]
        },
        {
          "name": "stdout",
          "output_type": "stream",
          "text": [
            "Extracting ./data/cifar-10-python.tar.gz to ./data/\n",
            "Dataset size: 50000\n",
            "Image size: torch.Size([3, 32, 32])\n",
            "Image data type: torch.float32\n",
            "Label: 6\n",
            "Label type: <class 'int'>\n",
            "Files already downloaded and verified\n"
          ]
        }
      ],
      "source": [
        "import torchvision.transforms as transforms\n",
        "\n",
        "# Define the transformation\n",
        "transform = transforms.Compose([transforms.ToTensor()])\n",
        "\n",
        "# Load the CIFAR-10 dataset\n",
        "# load the train dataset\n",
        "train_dataset = torchvision.datasets.CIFAR10(\n",
        "    root='./data/',\n",
        "    train=True,\n",
        "    download=True,\n",
        "    transform=transform)\n",
        "\n",
        "# Access the first data sample\n",
        "data_sample, label_sample = train_dataset[0]\n",
        "\n",
        "# Print information about the dataset\n",
        "print(f\"Dataset size: {len(train_dataset)}\")\n",
        "print(f\"Image size: {data_sample.size()}\")\n",
        "print(f\"Image data type: {data_sample.dtype}\")\n",
        "print(f\"Label: {label_sample}\")\n",
        "print(f\"Label type: {type(label_sample)}\")\n",
        "\n",
        "# load the test dataset\n",
        "test_dataset = torchvision.datasets.CIFAR10(\n",
        "    root='./data/',\n",
        "    train=False,\n",
        "    download=True,\n",
        "    transform=transform)"
      ]
    },
    {
      "cell_type": "code",
      "execution_count": null,
      "metadata": {
        "colab": {
          "base_uri": "https://localhost:8080/"
        },
        "id": "8sJocFGnAeuv",
        "outputId": "d30417a9-db48-4939-c63f-822226c99515"
      },
      "outputs": [
        {
          "name": "stdout",
          "output_type": "stream",
          "text": [
            "Dataset size: 10000\n"
          ]
        }
      ],
      "source": [
        "print(f\"Dataset size: {len(test_dataset)}\")"
      ]
    },
    {
      "cell_type": "code",
      "execution_count": null,
      "metadata": {
        "id": "-2chg8mhAipU"
      },
      "outputs": [],
      "source": [
        "from torch.utils.data import random_split\n",
        "\n",
        "train_dataset,  valid_dataset = random_split(\n",
        "    train_dataset,\n",
        "    lengths=[40000, 10000],\n",
        "    generator=torch.Generator().manual_seed(42) #use a generator to insure reproducibilty\n",
        ")"
      ]
    },
    {
      "cell_type": "code",
      "execution_count": null,
      "metadata": {
        "id": "c7J1U3ftAk9D"
      },
      "outputs": [],
      "source": [
        "valid_dataloader = DataLoader(\n",
        "    dataset=valid_dataset,\n",
        "    batch_size=TEST_BATCH_SIZE,\n",
        "    shuffle=False,\n",
        "    num_workers=2)\n",
        "\n",
        "train_dataloader = DataLoader(\n",
        "    dataset=train_dataset,\n",
        "    batch_size=BATCH_SIZE,\n",
        "    shuffle=True,\n",
        "    num_workers=2)\n",
        "\n",
        "\n",
        "test_dataloader = DataLoader(\n",
        "    dataset=test_dataset,\n",
        "    batch_size=TEST_BATCH_SIZE,\n",
        "    shuffle=False,\n",
        "    num_workers=2)"
      ]
    },
    {
      "cell_type": "code",
      "execution_count": null,
      "metadata": {
        "colab": {
          "base_uri": "https://localhost:8080/",
          "height": 277
        },
        "id": "RO0AeU-yAnAt",
        "outputId": "0cd8417a-9772-4001-d072-650e165fbdf0"
      },
      "outputs": [
        {
          "data": {
            "image/png": "[encoded data removed]",
            "text/plain": [
              "<Figure size 640x480 with 1 Axes>"
            ]
          },
          "metadata": {},
          "output_type": "display_data"
        }
      ],
      "source": [
        "visualize_images(train_dataloader)"
      ]
    },
    {
      "cell_type": "code",
      "execution_count": null,
      "metadata": {
        "colab": {
          "base_uri": "https://localhost:8080/"
        },
        "id": "HOBFx4p6AwFN",
        "outputId": "ba98ba19-7bc1-4efe-c872-21a3b5f9e63f"
      },
      "outputs": [
        {
          "name": "stdout",
          "output_type": "stream",
          "text": [
            "Epoch 0: Train Loss=1.6037, Validation Loss=1.8614, Validation acc=33.6000\n",
            "Epoch 1: Train Loss=1.3380, Validation Loss=2.5013, Validation acc=20.0300\n",
            "Epoch 2: Train Loss=1.2020, Validation Loss=1.8520, Validation acc=36.3000\n",
            "Epoch 3: Train Loss=1.0935, Validation Loss=1.9548, Validation acc=37.6200\n",
            "Epoch 4: Train Loss=1.0046, Validation Loss=1.7142, Validation acc=44.2900\n",
            "Test set: Avg. loss: 1.7254, Accuracy: 4393/10000 (44%)\n"
          ]
        },
        {
          "data": {
            "text/plain": [
              "(1.725370394897461, tensor(43.9300, device='cuda:0'))"
            ]
          },
          "execution_count": 29,
          "metadata": {},
          "output_type": "execute_result"
        }
      ],
      "source": [
        "#### S_CONV SGD CIFAR10 ####\n",
        "\n",
        "Sconv_cifar10 = S_CONV(alpha=ALPHA, output = 10).to(DEVICE)\n",
        "\n",
        "# define the optimizer\n",
        "optimizer = torch.optim.SGD(Sconv_cifar10.parameters(), lr=LEARNING_RATE)\n",
        "\n",
        "# train the NN\n",
        "train_losses, valid_losses, valid_accs, layer_nonzeros = fit(model=Sconv_cifar10,\n",
        "  train_dataloader=train_dataloader,valid_dataloader=valid_dataloader,\n",
        "  optimizer=optimizer,epochs= EPOCHS ,device=DEVICE,PATH= 'SCONV_SGD_CIFAR10')# 4000 is too large and takes ton of time\n",
        "\n",
        "\n",
        "predict(model=Sconv_cifar10, test_dataloader=test_dataloader, device=DEVICE)"
      ]
    },
    {
      "cell_type": "code",
      "execution_count": null,
      "metadata": {
        "colab": {
          "base_uri": "https://localhost:8080/"
        },
        "id": "A_E5r4w_DmWJ",
        "outputId": "b2d5dd56-d3e1-41fc-8ec6-56c1683e7033"
      },
      "outputs": [
        {
          "name": "stdout",
          "output_type": "stream",
          "text": [
            "Epoch 0: Train Loss=1.6073, Validation Loss=1.6810, Validation acc=41.2900\n",
            "Epoch 1: Train Loss=1.2459, Validation Loss=1.6857, Validation acc=41.5900\n",
            "Epoch 2: Train Loss=1.0513, Validation Loss=3.1026, Validation acc=30.8100\n",
            "Epoch 3: Train Loss=0.9041, Validation Loss=2.5076, Validation acc=37.3000\n",
            "Test set: Avg. loss: 2.5412, Accuracy: 3632/10000 (36%)\n"
          ]
        },
        {
          "data": {
            "text/plain": [
              "(2.541154791259766, tensor(36.3200, device='cuda:0'))"
            ]
          },
          "execution_count": 7,
          "metadata": {},
          "output_type": "execute_result"
        }
      ],
      "source": [
        "#### S_LOCAL SGD CIFAR10 ####\n",
        "Slocal_cifar10 = S_LOCAL(alpha=ALPHA ,output = 10).to(DEVICE)\n",
        "\n",
        "# define the optimizer\n",
        "optimizer = torch.optim.SGD(Slocal_cifar10.parameters(), lr=LEARNING_RATE)\n",
        "\n",
        "# train the NN\n",
        "train_losses, valid_losses, valid_accs, non_zero_layers = fit(model=Slocal_cifar10,\n",
        "  train_dataloader=train_dataloader,valid_dataloader=valid_dataloader,\n",
        "  optimizer=optimizer,epochs=EPOCHS,device=DEVICE, PATH = 'SLOC_SGD_CIFAR10')# 4000 is too large and takes ton of time\n",
        "\n",
        "\n",
        "predict(model=Slocal_cifar10, test_dataloader=test_dataloader, device=DEVICE)"
      ]
    },
    {
      "cell_type": "code",
      "execution_count": null,
      "metadata": {
        "id": "OIzrr7UpReW5"
      },
      "outputs": [],
      "source": [
        "#### 3_FC SGD CIFAR10 ####\n",
        "fc3_cifar10 = FC_3(alpha=ALPHA, output = 10).to(DEVICE)\n",
        "\n",
        "# define the optimizer\n",
        "optimizer = torch.optim.SGD(fc3_cifar10.parameters(), lr=LEARNING_RATE)\n",
        "\n",
        "# train the NN\n",
        "train_losses, valid_losses, valid_accs,non_zero_layers = fit(model=fc3_cifar10,\n",
        "  train_dataloader=train_dataloader,valid_dataloader=valid_dataloader,\n",
        "  optimizer=optimizer,epochs=EPOCHS,device=DEVICE, PATH= '3_FC_SGD_CIFAR10')# 4000 is too large and takes ton of time\n",
        "\n",
        "\n",
        "predict(model=fc3_cifar10, test_dataloader=test_dataloader, device=DEVICE)"
      ]
    },
    {
      "cell_type": "code",
      "execution_count": null,
      "metadata": {
        "id": "8dXXg0CDR6I1"
      },
      "outputs": [],
      "source": [
        "#### S_FC SGD CIFAR10 ####\n",
        "Sfc_cifar10 = S_FC(alpha=ALPHA, output = 10).to(DEVICE)\n",
        "\n",
        "# define the optimizer\n",
        "optimizer = torch.optim.SGD(Sfc_cifar10.parameters(), lr=LEARNING_RATE)\n",
        "\n",
        "beta=50\n",
        "lambda_l1=2e-5\n",
        "# train the NN\n",
        "train_losses, valid_losses, valid_accs, non_zero_layers = fit(model=Sfc_cifar10,\n",
        "  train_dataloader=train_dataloader,optimizer=optimizer,epochs=EPOCHS,\n",
        "  device=DEVICE,valid_dataloader=valid_dataloader, PATH='S_FC_SGD_CIFAR10')# 4000 is too large and takes ton of time\n",
        "\n",
        "\n",
        "predict(model=Sfc_cifar10, test_dataloader=test_dataloader, device=DEVICE)"
      ]
    },
    {
      "cell_type": "code",
      "execution_count": null,
      "metadata": {
        "id": "KhWHon6ES7YV"
      },
      "outputs": [],
      "source": [
        "#### S_FC b=0 CIFAR10 ####\n",
        "Sfc_cifar10_b0 = S_FC(alpha=ALPHA, output = 10).to(DEVICE)\n",
        "\n",
        "# define the optimizer\n",
        "optimizer = torch.optim.SGD(Sfc_cifar10_b0.parameters(), lr=LEARNING_RATE)\n",
        "\n",
        "beta=0\n",
        "lambda_l1=2e-5\n",
        "# train the NN\n",
        "train_losses, valid_losses, valid_accs, non_zero_layers = fit(model=Sfc_cifar10_b0,\n",
        "  train_dataloader=train_dataloader,optimizer=optimizer,epochs=EPOCHS,\n",
        "  device=DEVICE,valid_dataloader=valid_dataloader, PATH='S_FC_b0_CIFAR10', beta = beta, lambda_ = lambda_l1 )# 4000 is too large and takes ton of time\n",
        "\n",
        "\n",
        "predict(model=Sfc_cifar10_b0, test_dataloader=test_dataloader, device=DEVICE)"
      ]
    },
    {
      "cell_type": "code",
      "execution_count": null,
      "metadata": {
        "id": "snJhQCEDTYYc"
      },
      "outputs": [],
      "source": [
        "#### S_FC b=1 CIFAR10 ####\n",
        "Sfc_cifar10_b1 = S_FC(alpha=ALPHA, output = 10).to(DEVICE)\n",
        "\n",
        "# define the optimizer\n",
        "optimizer = torch.optim.SGD(Sfc_cifar10_b1.parameters(), lr=LEARNING_RATE)\n",
        "\n",
        "beta=1\n",
        "lambda_l1=2e-5\n",
        "# train the NN\n",
        "train_losses, valid_losses, valid_accs, non_zero_layers = fit(model=Sfc_cifar10_b1,\n",
        "  train_dataloader=train_dataloader,optimizer=optimizer,epochs=EPOCHS,\n",
        "  device=DEVICE,valid_dataloader=valid_dataloader, PATH='S_FC_b1_CIFAR10', beta = beta, lambda_ = lambda_l1 )# 4000 is too large and takes ton of time\n",
        "\n",
        "\n",
        "predict(model=Sfc_cifar10_b1, test_dataloader=test_dataloader, device=DEVICE)"
      ]
    },
    {
      "cell_type": "code",
      "execution_count": null,
      "metadata": {
        "id": "BmjiS2fDTiFt"
      },
      "outputs": [],
      "source": [
        "#### S_FC b=50 CIFAR10 ####\n",
        "Sfc_cifar10_b50 = S_FC(alpha=ALPHA, output = 10).to(DEVICE)\n",
        "\n",
        "# define the optimizer\n",
        "optimizer = torch.optim.SGD(Sfc_cifar10_b50.parameters(), lr=LEARNING_RATE)\n",
        "\n",
        "beta=50\n",
        "lambda_l1=2e-5\n",
        "# train the NN\n",
        "train_losses, valid_losses, valid_accs, non_zero_layers = fit(model=Sfc_cifar10_b50,\n",
        "  train_dataloader=train_dataloader,optimizer=optimizer,epochs=EPOCHS,\n",
        "  device=DEVICE,valid_dataloader=valid_dataloader, PATH='S_FC_b50_CIFAR10', beta = beta, lambda_ = lambda_l1 )# 4000 is too large and takes ton of time\n",
        "\n",
        "\n",
        "predict(model=Sfc_cifar10_b50, test_dataloader=test_dataloader, device=DEVICE)"
      ]
    },
    {
      "cell_type": "code",
      "execution_count": null,
      "metadata": {
        "colab": {
          "base_uri": "https://localhost:8080/"
        },
        "id": "yQBaE4DF7cYf",
        "outputId": "ccac229f-a010-45c7-db57-8fc259109462"
      },
      "outputs": [
        {
          "name": "stdout",
          "output_type": "stream",
          "text": [
            "Test set: Avg. loss: 3.8710, Accuracy: 2846/10000 (28%)\n"
          ]
        },
        {
          "data": {
            "text/plain": [
              "(3.8709927734375, tensor(28.4600, device='cuda:0'))"
            ]
          },
          "execution_count": 23,
          "metadata": {},
          "output_type": "execute_result"
        }
      ],
      "source": [
        "model_loaded = S_LOCAL(alpha=32, output = 10).to(DEVICE)\n",
        "model_loaded.load_state_dict(torch.load('/content/ dummy1.pth'))\n",
        "predict(model=model_loaded, test_dataloader=test_dataloader, device=DEVICE)"
      ]
    },
    {
      "cell_type": "code",
      "execution_count": null,
      "metadata": {
        "colab": {
          "base_uri": "https://localhost:8080/"
        },
        "id": "GhORyq9ZAq4b",
        "outputId": "4a3258eb-fd37-4867-c094-ec4c12968527"
      },
      "outputs": [
        {
          "name": "stdout",
          "output_type": "stream",
          "text": [
            "{'local_conv1.weight': [7776, 7776, 7776, 7776], 'bn1.weight': [96, 96, 96, 96], 'fc1.weight': [18874368, 18874368, 18874368, 18874368], 'bn2.weight': [768, 768, 768, 768], 'fc2.weight': [7680, 7680, 7680, 7680]}\n"
          ]
        }
      ],
      "source": [
        "file = open('/content/ dummy1losses.pth', 'rb')\n",
        "\n",
        "# dump information to that file\n",
        "data = pickle.load(file)\n",
        "\n",
        "# close the file\n",
        "file.close()\n",
        "print(data['layer_nonzeros'])"
      ]
    },
    {
      "cell_type": "markdown",
      "metadata": {
        "id": "fTXvHrKrYihy"
      },
      "source": [
        "# Cifar 100"
      ]
    },
    {
      "cell_type": "code",
      "execution_count": null,
      "metadata": {
        "colab": {
          "base_uri": "https://localhost:8080/"
        },
        "id": "nLlF1vtkHiTm",
        "outputId": "56704e6d-37a9-49c1-aa05-a84e64426e93"
      },
      "outputs": [
        {
          "name": "stdout",
          "output_type": "stream",
          "text": [
            "Files already downloaded and verified\n",
            "Dataset size: 50000\n",
            "Image size: torch.Size([3, 32, 32])\n",
            "Image data type: torch.float32\n",
            "Label: 19\n",
            "Label type: <class 'int'>\n",
            "Files already downloaded and verified\n"
          ]
        }
      ],
      "source": [
        "import torchvision.transforms as transforms\n",
        "\n",
        "# Define the transformation\n",
        "transform = transforms.Compose([transforms.ToTensor()])\n",
        "# Load the CIFAR-100 dataset\n",
        "# load the train dataset\n",
        "train_dataset100 = torchvision.datasets.CIFAR100(\n",
        "    root='./data/',\n",
        "    train=True,\n",
        "    download=True,\n",
        "    transform=transform)\n",
        "\n",
        "# Access the first data sample\n",
        "data_sample, label_sample = train_dataset100[0]\n",
        "\n",
        "# Print information about the dataset\n",
        "print(f\"Dataset size: {len(train_dataset100)}\")\n",
        "print(f\"Image size: {data_sample.size()}\")\n",
        "print(f\"Image data type: {data_sample.dtype}\")\n",
        "print(f\"Label: {label_sample}\")\n",
        "print(f\"Label type: {type(label_sample)}\")\n",
        "\n",
        "# load the test dataset\n",
        "test_dataset100 = torchvision.datasets.CIFAR100(\n",
        "    root='./data/',\n",
        "    train=False,\n",
        "    download=True,\n",
        "    transform=transform)"
      ]
    },
    {
      "cell_type": "code",
      "execution_count": null,
      "metadata": {
        "colab": {
          "base_uri": "https://localhost:8080/"
        },
        "id": "Mn3sJpKhOAg9",
        "outputId": "40d9147d-541f-4a33-fb43-e4a9c4c8fb98"
      },
      "outputs": [
        {
          "name": "stdout",
          "output_type": "stream",
          "text": [
            "Dataset size: 10000\n"
          ]
        }
      ],
      "source": [
        "print(f\"Dataset size: {len(test_dataset100)}\")"
      ]
    },
    {
      "cell_type": "code",
      "execution_count": null,
      "metadata": {
        "id": "ICAQYFgnHoKd"
      },
      "outputs": [],
      "source": [
        "from torch.utils.data import random_split\n",
        "\n",
        "train_dataset100,  valid_dataset100 = random_split(\n",
        "    train_dataset100,\n",
        "    lengths=[40000, 10000],\n",
        "    generator=torch.Generator().manual_seed(42) #use a generator to insure reproducibilty\n",
        ")\n",
        "\n",
        "train_dataloader100 = DataLoader(\n",
        "    dataset=train_dataset100,\n",
        "    batch_size=BATCH_SIZE,\n",
        "    shuffle=True,\n",
        "    num_workers=2)\n",
        "\n",
        "\n",
        "test_dataloader100 = DataLoader(\n",
        "    dataset=test_dataset100,\n",
        "    batch_size=TEST_BATCH_SIZE,\n",
        "    shuffle=False,\n",
        "    num_workers=2)\n",
        "\n",
        "valid_dataloader100 = DataLoader(\n",
        "    dataset=valid_dataset100,\n",
        "    batch_size=TEST_BATCH_SIZE,\n",
        "    shuffle=False,\n",
        "    num_workers=2)"
      ]
    },
    {
      "cell_type": "code",
      "execution_count": null,
      "metadata": {
        "colab": {
          "base_uri": "https://localhost:8080/",
          "height": 277
        },
        "id": "6U4uQrDQNXDU",
        "outputId": "7c882ec2-a16a-4a4a-cbf2-502995d6e022"
      },
      "outputs": [
        {
          "data": {
            "image/png": "[encoded data removed]",
            "text/plain": [
              "<Figure size 640x480 with 1 Axes>"
            ]
          },
          "metadata": {},
          "output_type": "display_data"
        }
      ],
      "source": [
        "visualize_images(train_dataloader100)"
      ]
    },
    {
      "cell_type": "code",
      "execution_count": null,
      "metadata": {
        "id": "6-x1xmN-StGQ"
      },
      "outputs": [],
      "source": [
        "#### S_CONV SGD CIFAR100 ####\n",
        "\n",
        "Sconv_cifar100 = S_CONV(alpha=ALPHA, output = 100).to(DEVICE)\n",
        "\n",
        "# define the optimizer\n",
        "optimizer = torch.optim.SGD(Sconv_cifar100.parameters(), lr=LEARNING_RATE)\n",
        "\n",
        "# train the NN\n",
        "train_losses, valid_losses, valid_accs, layer_nonzeros = fit(model=Sconv_cifar100,\n",
        "  train_dataloader=train_dataloader100,valid_dataloader=valid_dataloader100,\n",
        "  optimizer=optimizer,epochs= EPOCHS ,device=DEVICE,PATH= 'SCONV_SGD_CIFAR100')# 4000 is too large and takes ton of time\n",
        "\n",
        "\n",
        "predict(model=Sconv_cifar100, test_dataloader=test_dataloader100, device=DEVICE)"
      ]
    },
    {
      "cell_type": "code",
      "execution_count": null,
      "metadata": {
        "id": "tmk3aq1zS8Qn"
      },
      "outputs": [],
      "source": [
        "#### S_LOCAL SGD CIFAR100 ####\n",
        "Slocal_cifar100 = S_LOCAL(alpha=ALPHA ,output = 100).to(DEVICE)\n",
        "\n",
        "# define the optimizer\n",
        "optimizer = torch.optim.SGD(Slocal_cifar100.parameters(), lr=LEARNING_RATE)\n",
        "\n",
        "# train the NN\n",
        "train_losses, valid_losses, valid_accs, non_zero_layers = fit(model=Slocal_cifar100,\n",
        "  train_dataloader=train_dataloader100,valid_dataloader=valid_dataloader100,\n",
        "  optimizer=optimizer,epochs=EPOCHS,device=DEVICE, PATH = 'SLOC_SGD_CIFAR100')# 4000 is too large and takes ton of time\n",
        "\n",
        "\n",
        "predict(model=Slocal_cifar100, test_dataloader=test_dataloader100, device=DEVICE)"
      ]
    },
    {
      "cell_type": "code",
      "execution_count": null,
      "metadata": {
        "id": "2Cr0wj2NS_-O"
      },
      "outputs": [],
      "source": [
        "#### 3_FC SGD CIFAR100 ####\n",
        "fc3_cifar100 = FC_3(alpha=ALPHA, output = 100).to(DEVICE)\n",
        "\n",
        "# define the optimizer\n",
        "optimizer = torch.optim.SGD(fc3_cifar100.parameters(), lr=LEARNING_RATE)\n",
        "\n",
        "# train the NN\n",
        "train_losses, valid_losses, valid_accs,non_zero_layers = fit(model=fc3_cifar100,\n",
        "  train_dataloader=train_dataloader100,valid_dataloader=valid_dataloader100,\n",
        "  optimizer=optimizer,epochs=EPOCHS,device=DEVICE, PATH= '3_FC_SGD_CIFAR100')# 4000 is too large and takes ton of time\n",
        "\n",
        "\n",
        "predict(model=fc3_cifar100, test_dataloader=test_dataloader100, device=DEVICE)"
      ]
    },
    {
      "cell_type": "code",
      "execution_count": null,
      "metadata": {
        "id": "toFaHTDqTCyY"
      },
      "outputs": [],
      "source": [
        "#### S_FC SGD CIFAR100 ####\n",
        "ALPHA=28\n",
        "Sfc_cifar100 = S_FC(alpha=ALPHA, output = 100).to(DEVICE)\n",
        "\n",
        "# define the optimizer\n",
        "optimizer = torch.optim.SGD(Sfc_cifar100.parameters(), lr=LEARNING_RATE)\n",
        "\n",
        "# train the NN\n",
        "train_losses, valid_losses, valid_accs, non_zero_layers = fit(model=Sfc_cifar100,\n",
        "  train_dataloader=train_dataloader100,optimizer=optimizer,epochs=EPOCHS,\n",
        "  device=DEVICE,valid_dataloader=valid_dataloader100, PATH='S_FC_SGD_CIFAR100')# 4000 is too large and takes ton of time\n",
        "\n",
        "\n",
        "predict(model=Sfc_cifar100, test_dataloader=test_dataloader100, device=DEVICE)"
      ]
    },
    {
      "cell_type": "code",
      "execution_count": null,
      "metadata": {
        "id": "Pe6WFMXkTFX1"
      },
      "outputs": [],
      "source": [
        "#### S_FC b=0 CIFAR100 ####\n",
        "Sfc_cifar100_b0 = S_FC(alpha=28, output = 100).to(DEVICE)\n",
        "\n",
        "# define the optimizer\n",
        "optimizer = torch.optim.SGD(Sfc_cifar100_b0.parameters(), lr=LEARNING_RATE)\n",
        "\n",
        "beta=0\n",
        "lambda_l1=1e-6\n",
        "# train the NN\n",
        "train_losses, valid_losses, valid_accs, non_zero_layers = fit(model=Sfc_cifar100_b0,\n",
        "  train_dataloader=train_dataloader100,optimizer=optimizer,epochs=EPOCHS,\n",
        "  device=DEVICE,valid_dataloader=valid_dataloader100, PATH='S_FC_b0_CIFAR100', beta = beta, lambda_ = lambda_l1 )# 4000 is too large and takes ton of time\n",
        "\n",
        "\n",
        "predict(model=Sfc_cifar100_b0, test_dataloader=test_dataloader100, device=DEVICE)"
      ]
    },
    {
      "cell_type": "code",
      "execution_count": null,
      "metadata": {
        "id": "lMeC_bpjTItw"
      },
      "outputs": [],
      "source": [
        "#### S_FC b=1 CIFAR100 ####\n",
        "Sfc_cifar100_b1 = S_FC(alpha=28, output = 100).to(DEVICE)\n",
        "\n",
        "# define the optimizer\n",
        "optimizer = torch.optim.SGD(Sfc_cifar100_b1.parameters(), lr=LEARNING_RATE)\n",
        "\n",
        "beta=1\n",
        "lambda_l1=1e-6\n",
        "# train the NN\n",
        "train_losses, valid_losses, valid_accs, non_zero_layers = fit(model=Sfc_cifar100_b1,\n",
        "  train_dataloader=train_dataloader100,optimizer=optimizer,epochs=EPOCHS,\n",
        "  device=DEVICE,valid_dataloader=valid_dataloader100, PATH='S_FC_b1_CIFAR100', beta = beta, lambda_ = lambda_l1 )# 4000 is too large and takes ton of time\n",
        "\n",
        "\n",
        "predict(model=Sfc_cifar100_b1, test_dataloader=test_dataloader100, device=DEVICE)"
      ]
    },
    {
      "cell_type": "code",
      "execution_count": null,
      "metadata": {
        "id": "EyTfiVoITNy6"
      },
      "outputs": [],
      "source": [
        "#### S_FC b=50 CIFAR100 ####\n",
        "Sfc_cifar100_b50 = S_FC(alpha=28, output = 100).to(DEVICE)\n",
        "\n",
        "# define the optimizer\n",
        "optimizer = torch.optim.SGD(Sfc_cifar100_b50.parameters(), lr=LEARNING_RATE)\n",
        "\n",
        "beta=50\n",
        "lambda_l1=2e-5\n",
        "# train the NN\n",
        "train_losses, valid_losses, valid_accs, non_zero_layers = fit(model=Sfc_cifar100_b50,\n",
        "  train_dataloader=train_dataloader100,optimizer=optimizer,epochs=EPOCHS,\n",
        "  device=DEVICE,valid_dataloader=valid_dataloader100, PATH='S_FC_b50_CIFAR100', beta = beta, lambda_ = lambda_l1 )# 4000 is too large and takes ton of time\n",
        "\n",
        "\n",
        "predict(model=Sfc_cifar100_b50, test_dataloader=test_dataloader100, device=DEVICE)"
      ]
    },
    {
      "cell_type": "markdown",
      "metadata": {
        "id": "ZfkCAAQ1Yrxf"
      },
      "source": [
        "#SVHN"
      ]
    },
    {
      "cell_type": "code",
      "execution_count": null,
      "metadata": {
        "colab": {
          "base_uri": "https://localhost:8080/"
        },
        "id": "hJpKJV4hKFPQ",
        "outputId": "4c6dd5fd-01f7-4716-9821-964da1e5d8b6"
      },
      "outputs": [
        {
          "name": "stdout",
          "output_type": "stream",
          "text": [
            "Downloading http://ufldl.stanford.edu/housenumbers/train_32x32.mat to ./data/train_32x32.mat\n"
          ]
        },
        {
          "name": "stderr",
          "output_type": "stream",
          "text": [
            "100%|██████████| 182040794/182040794 [00:28<00:00, 6357740.09it/s]\n"
          ]
        },
        {
          "name": "stdout",
          "output_type": "stream",
          "text": [
            "Dataset size: 73257\n",
            "Image size: torch.Size([3, 32, 32])\n",
            "Image data type: torch.float32\n",
            "Label: 1\n",
            "Label type: <class 'int'>\n",
            "Downloading http://ufldl.stanford.edu/housenumbers/test_32x32.mat to ./data/test_32x32.mat\n"
          ]
        },
        {
          "name": "stderr",
          "output_type": "stream",
          "text": [
            "100%|██████████| 64275384/64275384 [00:18<00:00, 3509107.51it/s]\n"
          ]
        }
      ],
      "source": [
        "import torchvision.transforms as transforms\n",
        "\n",
        "# Define the transformation\n",
        "transform = transforms.Compose([transforms.ToTensor()])\n",
        "# Load the CIFAR-SVHN dataset\n",
        "# load the train dataset\n",
        "train_datasetSVHN = torchvision.datasets.SVHN(\n",
        "    root='./data/',\n",
        "    split='train',\n",
        "    download=True,\n",
        "    transform=transform)\n",
        "\n",
        "# Access the first data sample\n",
        "data_sample, label_sample = train_datasetSVHN[0]\n",
        "\n",
        "# Print information about the dataset\n",
        "print(f\"Dataset size: {len(train_datasetSVHN)}\")\n",
        "print(f\"Image size: {data_sample.size()}\")\n",
        "print(f\"Image data type: {data_sample.dtype}\")\n",
        "print(f\"Label: {label_sample}\")\n",
        "print(f\"Label type: {type(label_sample)}\")\n",
        "\n",
        "# load the test dataset\n",
        "test_datasetSVHN = torchvision.datasets.SVHN(\n",
        "    root='./data/',\n",
        "    split='test',\n",
        "    download=True,\n",
        "    transform=transform)"
      ]
    },
    {
      "cell_type": "code",
      "execution_count": null,
      "metadata": {
        "colab": {
          "base_uri": "https://localhost:8080/"
        },
        "id": "2yp2nlhNNk9U",
        "outputId": "936734e0-1acf-4721-98fb-9bebf70d457d"
      },
      "outputs": [
        {
          "name": "stdout",
          "output_type": "stream",
          "text": [
            "Dataset size: 26032\n"
          ]
        }
      ],
      "source": [
        "print(f\"Dataset size: {len(test_datasetSVHN)}\")"
      ]
    },
    {
      "cell_type": "code",
      "execution_count": null,
      "metadata": {
        "id": "jB4cUP8qK90V"
      },
      "outputs": [],
      "source": [
        "from torch.utils.data import random_split\n",
        "\n",
        "train_datasetSVHN,  valid_datasetSVHN = random_split(\n",
        "    train_datasetSVHN,\n",
        "    lengths=[47225, 26032],\n",
        "    generator=torch.Generator().manual_seed(42) #use a generator to insure reproducibilty\n",
        ")\n",
        "\n",
        "train_dataloaderSVHN = DataLoader(\n",
        "    dataset=train_datasetSVHN,\n",
        "    batch_size=BATCH_SIZE,\n",
        "    shuffle=True,\n",
        "    num_workers=2)\n",
        "\n",
        "\n",
        "test_dataloaderSVHN = DataLoader(\n",
        "    dataset=test_datasetSVHN,\n",
        "    batch_size=TEST_BATCH_SIZE,\n",
        "    shuffle=False,\n",
        "    num_workers=2)\n",
        "\n",
        "valid_dataloaderSVHN = DataLoader(\n",
        "    dataset=valid_datasetSVHN,\n",
        "    batch_size=TEST_BATCH_SIZE,\n",
        "    shuffle=False,\n",
        "    num_workers=2)"
      ]
    },
    {
      "cell_type": "code",
      "execution_count": null,
      "metadata": {
        "colab": {
          "base_uri": "https://localhost:8080/",
          "height": 277
        },
        "id": "3-7JIQB5Nd9I",
        "outputId": "614d661b-63d9-4ed7-a5a4-5d5dece6481f"
      },
      "outputs": [
        {
          "data": {
            "image/png": "[encoded data removed]",
            "text/plain": [
              "<Figure size 640x480 with 1 Axes>"
            ]
          },
          "metadata": {},
          "output_type": "display_data"
        }
      ],
      "source": [
        "visualize_images(train_dataloaderSVHN)"
      ]
    },
    {
      "cell_type": "code",
      "execution_count": null,
      "metadata": {
        "id": "XrQHNaHMOISL"
      },
      "outputs": [],
      "source": [
        "#### S_CONV SGD SVHN ####\n",
        "\n",
        "Sconv_SVHN = S_CONV(alpha=64, output = 10).to(DEVICE)\n",
        "\n",
        "# define the optimizer\n",
        "optimizer = torch.optim.SGD(Sconv_SVHN.parameters(), lr=LEARNING_RATE)\n",
        "\n",
        "# train the NN\n",
        "train_losses, valid_losses, valid_accs, layer_nonzeros = fit(model=Sconv_SVHN,\n",
        "  train_dataloader=train_dataloaderSVHN,valid_dataloader=valid_dataloaderSVHN,\n",
        "  optimizer=optimizer,epochs= 400 ,device=DEVICE,PATH= 'SCONV_SGD_SVHN')# 4000 is too large and takes ton of time\n",
        "\n",
        "\n",
        "predict(model=Sconv_SVHN, test_dataloader=test_dataloaderSVHN, device=DEVICE)"
      ]
    },
    {
      "cell_type": "code",
      "execution_count": null,
      "metadata": {
        "id": "843lSEEu3OhE"
      },
      "outputs": [],
      "source": [
        "#### S_LOCAL SGD SVHN ####\n",
        "Slocal_SVHN = S_LOCAL(alpha=64 ,output = 10).to(DEVICE)\n",
        "\n",
        "# define the optimizer\n",
        "optimizer = torch.optim.SGD(Slocal_SVHN.parameters(), lr=LEARNING_RATE)\n",
        "\n",
        "# train the NN\n",
        "train_losses, valid_losses, valid_accs, non_zero_layers = fit(model=Slocal_SVHN,\n",
        "  train_dataloader=train_dataloaderSVHN,valid_dataloader=valid_dataloaderSVHN,\n",
        "  optimizer=optimizer,epochs=400,device=DEVICE, PATH = 'SLOC_SGD_SVHN')# 4000 is too large and takes ton of time\n",
        "\n",
        "\n",
        "predict(model=Slocal_SVHN, test_dataloader=test_dataloaderSVHN, device=DEVICE)"
      ]
    },
    {
      "cell_type": "code",
      "execution_count": null,
      "metadata": {
        "id": "2IvL28A23Rmx"
      },
      "outputs": [],
      "source": [
        "#### 3_FC SGD SVHN ####\n",
        "fc3_SVHN = FC_3(alpha=28, output = 10).to(DEVICE)\n",
        "\n",
        "# define the optimizer\n",
        "optimizer = torch.optim.SGD(fc3_SVHN.parameters(), lr=LEARNING_RATE)\n",
        "\n",
        "# train the NN\n",
        "train_losses, valid_losses, valid_accs,non_zero_layers = fit(model=fc3_SVHN,\n",
        "  train_dataloader=train_dataloaderSVHN,valid_dataloader=valid_dataloaderSVHN,\n",
        "  optimizer=optimizer,epochs=100,device=DEVICE, PATH= '3_FC_SGD_SVHN')# 4000 is too large and takes ton of time\n",
        "\n",
        "\n",
        "predict(model=fc3_SVHN, test_dataloader=test_dataloaderSVHN, device=DEVICE)"
      ]
    },
    {
      "cell_type": "code",
      "execution_count": null,
      "metadata": {
        "id": "zrD6oSpl3Ti6"
      },
      "outputs": [],
      "source": [
        "#### S_FC SGD SVHN ####\n",
        "Sfc_SVHN = S_FC(alpha=28, output = 10).to(DEVICE)\n",
        "\n",
        "# define the optimizer\n",
        "optimizer = torch.optim.SGD(Sfc_SVHN.parameters(), lr=LEARNING_RATE)\n",
        "\n",
        "# train the NN\n",
        "train_losses, valid_losses, valid_accs, non_zero_layers = fit(model=Sfc_SVHN,\n",
        "  train_dataloader=train_dataloaderSVHN,optimizer=optimizer,epochs=100,\n",
        "  device=DEVICE,valid_dataloader=valid_dataloaderSVHN, PATH='S_FC_SGD_SVHN')# 4000 is too large and takes ton of time\n",
        "\n",
        "\n",
        "predict(model=Sfc_SVHN, test_dataloader=test_dataloaderSVHN, device=DEVICE)"
      ]
    },
    {
      "cell_type": "code",
      "execution_count": null,
      "metadata": {
        "id": "Ad-b0ynn3VGA"
      },
      "outputs": [],
      "source": [
        "#### S_FC b=0 SVHN ####\n",
        "Sfc_SVHN_b0 = S_FC(alpha=28, output = 10).to(DEVICE)\n",
        "\n",
        "# define the optimizer\n",
        "optimizer = torch.optim.SGD(Sfc_SVHN_b0.parameters(), lr=LEARNING_RATE)\n",
        "\n",
        "beta=0\n",
        "lambda_l1=1e-6\n",
        "# train the NN\n",
        "train_losses, valid_losses, valid_accs, non_zero_layers = fit(model=Sfc_SVHN_b0,\n",
        "  train_dataloader=train_dataloaderSVHN,optimizer=optimizer,epochs=100,\n",
        "  device=DEVICE,valid_dataloader=valid_dataloaderSVHN, PATH='S_FC_b0_SVHN', beta = beta, lambda_ = lambda_l1 )# 4000 is too large and takes ton of time\n",
        "\n",
        "\n",
        "predict(model=Sfc_SVHN_b0, test_dataloader=test_dataloaderSVHN, device=DEVICE)"
      ]
    },
    {
      "cell_type": "code",
      "execution_count": null,
      "metadata": {
        "id": "OSLDJoTn3WsX"
      },
      "outputs": [],
      "source": [
        "#### S_FC b=1 SVHN ####\n",
        "Sfc_SVHN_b1 = S_FC(alpha=28, output = 10).to(DEVICE)\n",
        "\n",
        "# define the optimizer\n",
        "optimizer = torch.optim.SGD(Sfc_SVHN_b1.parameters(), lr=LEARNING_RATE)\n",
        "\n",
        "beta=1\n",
        "lambda_l1=1e-6\n",
        "# train the NN\n",
        "train_losses, valid_losses, valid_accs, non_zero_layers = fit(model=Sfc_SVHN_b1,\n",
        "  train_dataloader=train_dataloaderSVHN,optimizer=optimizer,epochs=100,\n",
        "  device=DEVICE,valid_dataloader=valid_dataloaderSVHN, PATH='S_FC_b1_SVHN', beta = beta, lambda_ = lambda_l1 )# 4000 is too large and takes ton of time\n",
        "\n",
        "\n",
        "predict(model=Sfc_SVHN_b1, test_dataloader=test_dataloaderSVHN, device=DEVICE)"
      ]
    },
    {
      "cell_type": "code",
      "execution_count": null,
      "metadata": {
        "id": "nEmn70PW3YIT"
      },
      "outputs": [],
      "source": [
        "#### S_FC b=50 SVHN ####\n",
        "Sfc_SVHN_b50 = S_FC(alpha=28, output = 10).to(DEVICE)\n",
        "\n",
        "# define the optimizer\n",
        "optimizer = torch.optim.SGD(Sfc_SVHN_b50.parameters(), lr=LEARNING_RATE)\n",
        "\n",
        "beta=50\n",
        "lambda_l1=1e-6\n",
        "# train the NN\n",
        "train_losses, valid_losses, valid_accs, non_zero_layers = fit(model=Sfc_SVHN_b50,\n",
        "  train_dataloader=train_dataloaderSVHN,optimizer=optimizer,epochs=100,\n",
        "  device=DEVICE,valid_dataloader=valid_dataloaderSVHN, PATH='S_FC_b50_SVHN', beta = beta, lambda_ = lambda_l1 )# 4000 is too large and takes ton of time\n",
        "\n",
        "\n",
        "predict(model=Sfc_SVHN_b50, test_dataloader=test_dataloaderSVHN, device=DEVICE)"
      ]
    }
  ],
  "metadata": {
    "accelerator": "GPU",
    "colab": {
      "collapsed_sections": [
        "-DJ7z7snPNX6",
        "fTXvHrKrYihy"
      ],
      "gpuType": "T4",
      "provenance": []
    },
    "kernelspec": {
      "display_name": "Python 3",
      "name": "python3"
    },
    "language_info": {
      "name": "python"
    }
  },
  "nbformat": 4,
  "nbformat_minor": 0
}
