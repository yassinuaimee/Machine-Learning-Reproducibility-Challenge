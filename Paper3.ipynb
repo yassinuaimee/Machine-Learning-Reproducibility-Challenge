{
 "cells": [
  {
   "cell_type": "markdown",
   "metadata": {},
   "source": [
    "# Towards Learning Convolutions from Scratch"
   ]
  },
  {
   "cell_type": "markdown",
   "metadata": {},
   "source": [
    "### Yassin Alnuaimee, Mehrad Sahebi and Danilo Cammarata"
   ]
  },
  {
   "cell_type": "markdown",
   "metadata": {},
   "source": [
    "The following code snipets are probably a good start for the project"
   ]
  },
  {
   "cell_type": "code",
   "execution_count": 1,
   "metadata": {},
   "outputs": [
    {
     "name": "stdout",
     "output_type": "stream",
     "text": [
      "Downloading https://www.cs.toronto.edu/~kriz/cifar-10-python.tar.gz to ./data\\cifar-10-python.tar.gz\n"
     ]
    },
    {
     "name": "stderr",
     "output_type": "stream",
     "text": [
      "100.0%\n"
     ]
    },
    {
     "name": "stdout",
     "output_type": "stream",
     "text": [
      "Extracting ./data\\cifar-10-python.tar.gz to ./data\n"
     ]
    }
   ],
   "source": [
    "import torch\n",
    "import torch.nn as nn\n",
    "import torchvision\n",
    "import torchvision.transforms as transforms\n",
    "\n",
    "# Load and preprocess the dataset\n",
    "transform = transforms.Compose([transforms.ToTensor(), transforms.Normalize((0.5, 0.5, 0.5), (0.5, 0.5, 0.5))])\n",
    "trainset = torchvision.datasets.CIFAR10(root='./data', train=True, download=True, transform=transform)\n",
    "trainloader = torch.utils.data.DataLoader(trainset, batch_size=4, shuffle=True, num_workers=2)\n",
    "\n",
    "# Define the neural network structure (simplified example)\n",
    "class SimpleNet(nn.Module):\n",
    "    def __init__(self):\n",
    "        super(SimpleNet, self).__init__()\n",
    "        self.fc1 = nn.Linear(32 * 32 * 3, 1000) # Adjust sizes as per the paper's architecture\n",
    "        self.fc2 = nn.Linear(1000, 10)\n",
    "\n",
    "    def forward(self, x):\n",
    "        x = x.view(-1, 32 * 32 * 3)  # Flatten the image\n",
    "        x = torch.relu(self.fc1(x))\n",
    "        x = self.fc2(x)\n",
    "        return x\n",
    "\n",
    "net = SimpleNet()\n",
    "\n",
    "# Define the β-lasso training algorithm (simplified pseudo-code)\n",
    "def beta_lasso_train(net, trainloader):\n",
    "    optimizer = torch.optim.SGD(net.parameters(), lr=0.001, momentum=0.9)\n",
    "    criterion = nn.CrossEntropyLoss()\n",
    "\n",
    "    for epoch in range(10):  # Loop over the dataset multiple times\n",
    "        for i, data in enumerate(trainloader, 0):\n",
    "            inputs, labels = data\n",
    "            optimizer.zero_grad()\n",
    "            outputs = net(inputs)\n",
    "            loss = criterion(outputs, labels)\n",
    "            loss.backward()\n",
    "            optimizer.step()\n",
    "\n",
    "            # Implement the β-lasso algorithm specifics here\n",
    "            # ...\n",
    "\n",
    "# Train the network\n",
    "beta_lasso_train(net, trainloader)\n"
   ]
  },
  {
   "cell_type": "code",
   "execution_count": 2,
   "metadata": {},
   "outputs": [],
   "source": [
    "import torch.optim as optim\n",
    "\n",
    "def beta_lasso_loss(model, beta):\n",
    "    \"\"\"\n",
    "    Compute the β-lasso regularization term.\n",
    "    This function computes the sum of the absolute values of the weights,\n",
    "    scaled by the β parameter.\n",
    "    \"\"\"\n",
    "    reg_loss = 0.0\n",
    "    for param in model.parameters():\n",
    "        reg_loss += torch.sum(torch.abs(param))\n",
    "    return beta * reg_loss\n",
    "\n",
    "def adjust_beta(initial_beta, epoch, adjustment_factor):\n",
    "    \"\"\"\n",
    "    Dynamically adjust the β parameter.\n",
    "    \"\"\"\n",
    "    return initial_beta * (adjustment_factor ** epoch)\n",
    "\n",
    "def train_model(model, train_loader, initial_beta, adjustment_factor, epochs=10):\n",
    "    criterion = nn.CrossEntropyLoss()\n",
    "    optimizer = optim.SGD(model.parameters(), lr=0.001, momentum=0.9)\n",
    "\n",
    "    for epoch in range(epochs):\n",
    "        beta = adjust_beta(initial_beta, epoch, adjustment_factor)\n",
    "        for inputs, labels in train_loader:\n",
    "            optimizer.zero_grad()\n",
    "\n",
    "            # Forward pass\n",
    "            outputs = model(inputs)\n",
    "            loss = criterion(outputs, labels)\n",
    "\n",
    "            # Add the β-lasso regularization term\n",
    "            loss += beta_lasso_loss(model, beta)\n",
    "\n",
    "            # Backward pass and optimize\n",
    "            loss.backward()\n",
    "            optimizer.step()"
   ]
  },
  {
   "cell_type": "code",
   "execution_count": null,
   "metadata": {},
   "outputs": [],
   "source": [
    "# Example usage\n",
    "model = SimpleNet()\n",
    "train_loader = # Load your data here\n",
    "initial_beta = 0.01  # Initial β value\n",
    "adjustment_factor = 0.95  # Factor to adjust β every epoch\n",
    "train_model(model, train_loader, initial_beta, adjustment_factor)"
   ]
  }
 ],
 "metadata": {
  "kernelspec": {
   "display_name": "Coding",
   "language": "python",
   "name": "python3"
  },
  "language_info": {
   "codemirror_mode": {
    "name": "ipython",
    "version": 3
   },
   "file_extension": ".py",
   "mimetype": "text/x-python",
   "name": "python",
   "nbconvert_exporter": "python",
   "pygments_lexer": "ipython3",
   "version": "3.11.5"
  }
 },
 "nbformat": 4,
 "nbformat_minor": 2
}
